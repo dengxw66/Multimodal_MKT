{
 "cells": [
  {
   "cell_type": "code",
   "execution_count": 5,
   "metadata": {},
   "outputs": [
    {
     "name": "stdout",
     "output_type": "stream",
     "text": [
      "Cleaned Text: 花卉 连衣裙 搭配 真的 好好看 redheart     白茶 姐弟     每日 穿 搭     气质 连衣裙     连衣裙     显瘦 连衣裙\n",
      "RAKE Keywords: ['花卉 连衣裙 搭配 真的 好好看 redheart 白茶 姐弟 每日 穿 搭 气质 连衣裙 连衣裙 显瘦 连衣裙']\n"
     ]
    }
   ],
   "source": [
    "import re\n",
    "import jieba\n",
    "from rake_nltk import Rake\n",
    "import emoji\n",
    "\n",
    "# 读取停用词表\n",
    "stopwords_file_path = 'stopwords_cn.txt'\n",
    "with open(stopwords_file_path, 'r', encoding='utf-8') as file:\n",
    "    stopwords = set(file.read().splitlines())\n",
    "\n",
    "# 输入文本\n",
    "text = '花卉连衣裙这样搭配真的好好看❤️ - 小红书,,05-17,,#白茶姐弟 #每日穿搭 #气质连衣裙 #连衣裙 #显瘦连衣裙'\n",
    "\n",
    "# 表情符号转化\n",
    "text = emoji.demojize(text)\n",
    "\n",
    "# 数据清洗：去掉特定文本模式、停用词和无关词汇\n",
    "def clean_text(text, stopwords):\n",
    "    # 去掉特定文本模式\n",
    "    text = re.sub(r'- 小红书,,', '', text)\n",
    "    text = re.sub(r',,\\d{2}-\\d{2},,', '', text)\n",
    "    text = re.sub(r'#', ' ', text)\n",
    "    \n",
    "    # 去掉数字\n",
    "    text = re.sub(r'\\d+', '', text)\n",
    "    \n",
    "    # 去掉特殊字符\n",
    "    cleaned_text = ''.join(char for char in text if char.isalnum() or char.isspace())\n",
    "    # 分词\n",
    "    words = jieba.cut(cleaned_text)\n",
    "    # 去掉停用词\n",
    "    filtered_words = [word for word in words if word not in stopwords]\n",
    "    return ' '.join(filtered_words)\n",
    "\n",
    "cleaned_text = clean_text(text, stopwords)\n",
    "\n",
    "# 使用RAKE进行关键词提取\n",
    "def extract_keywords(text):\n",
    "    r = Rake()\n",
    "    r.extract_keywords_from_text(text)\n",
    "    return r.get_ranked_phrases()\n",
    "\n",
    "rake_keywords = extract_keywords(cleaned_text)\n",
    "\n",
    "# 打印结果\n",
    "print(\"Cleaned Text:\", cleaned_text)\n",
    "print(\"RAKE Keywords:\", rake_keywords)\n"
   ]
  },
  {
   "cell_type": "code",
   "execution_count": null,
   "metadata": {},
   "outputs": [],
   "source": [
    "之后使用 cluster即可。\n",
    "- 推荐可以使用/data1/dxw_data/llm/text2vec-large-chinese，或者imagebind 做embedding model都可以"
   ]
  },
  {
   "cell_type": "code",
   "execution_count": null,
   "metadata": {},
   "outputs": [],
   "source": []
  },
  {
   "cell_type": "code",
   "execution_count": null,
   "metadata": {},
   "outputs": [],
   "source": []
  }
 ],
 "metadata": {
  "kernelspec": {
   "display_name": "agent",
   "language": "python",
   "name": "python3"
  },
  "language_info": {
   "codemirror_mode": {
    "name": "ipython",
    "version": 3
   },
   "file_extension": ".py",
   "mimetype": "text/x-python",
   "name": "python",
   "nbconvert_exporter": "python",
   "pygments_lexer": "ipython3",
   "version": "3.8.19"
  }
 },
 "nbformat": 4,
 "nbformat_minor": 2
}
