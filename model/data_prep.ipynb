{
 "cells": [
  {
   "cell_type": "markdown",
   "metadata": {},
   "source": [
    "select 50 distinct rows based on poster_id from poster_got_50w.csv and save the result in poster_test_50.csv"
   ]
  },
  {
   "cell_type": "code",
   "execution_count": 2,
   "metadata": {},
   "outputs": [
    {
     "name": "stdout",
     "output_type": "stream",
     "text": [
      "New CSV file with 50 distinct rows saved as 'poster_test_50.csv'\n"
     ]
    }
   ],
   "source": [
    "import pandas as pd\n",
    "\n",
    "# Define the file path\n",
    "file_path = '/home/disk1/red_disk1/poster_got_50w.csv'\n",
    "\n",
    "# Load the CSV file\n",
    "df = pd.read_csv(file_path)\n",
    "\n",
    "# Select 50 distinct rows based on poster_id\n",
    "distinct_rows = df.drop_duplicates(subset=['poster_id']).head(50)\n",
    "\n",
    "# Save the new DataFrame to a CSV file\n",
    "output_path = '/home/disk1/red_disk1/poster_test_50.csv'\n",
    "distinct_rows.to_csv(output_path, index=False)\n",
    "\n",
    "print(\"New CSV file with 50 distinct rows saved as 'poster_test_50.csv'\")\n"
   ]
  },
  {
   "cell_type": "markdown",
   "metadata": {},
   "source": [
    "select the data from the all_data folder based on poster_id and post_id in poster_test_50.csv"
   ]
  },
  {
   "cell_type": "code",
   "execution_count": 7,
   "metadata": {},
   "outputs": [
    {
     "name": "stdout",
     "output_type": "stream",
     "text": [
      "Copied all data for poster_id 5659a9f903eb841795e4fba9\n",
      "Copied all data for poster_id 5f0357c10000000001001d74\n",
      "Copied all data for poster_id 5a8cf39111be10466d285d6b\n",
      "Copied all data for poster_id 5bde6c582572a10001b75ca4\n",
      "Copied all data for poster_id 5dcc3548000000000100bcbc\n",
      "Copied all data for poster_id 5b4da579e8ac2b2fae53447e\n",
      "Copied all data for poster_id 5bd6dcc813feb70001c0fb10\n",
      "Copied all data for poster_id 59ded8396eea880cdd9dde05\n",
      "Copied all data for poster_id 5f09d4a800000000010076a1\n",
      "Copied all data for poster_id 58ce075f5e87e757f8ea60c9\n",
      "Copied all data for poster_id 647075c6000000002a0377f6\n",
      "Copied all data for poster_id 57a346a67fc5b869366dd8f9\n",
      "Copied all data for poster_id 5aa33f5411be106b050fab2c\n",
      "Copied all data for poster_id 5958d3d56a6a691265623f01\n",
      "Copied all data for poster_id 5c454bb900000000070116a5\n",
      "Copied all data for poster_id 5b7702314115e000010bd9f5\n",
      "Copied all data for poster_id 598cb9e45e87e703113a4b42\n",
      "Copied all data for poster_id 5b1bb0f311be10296312808d\n",
      "Copied all data for poster_id 5b9f6f33b2e7dc000145640f\n",
      "Copied all data for poster_id 59ef0b1211be105e76cffae6\n",
      "Copied all data for poster_id 604b90000000000001003ae8\n",
      "Copied all data for poster_id 5b3c364911be10556aeb83ef\n",
      "Copied all data for poster_id 6357ba44000000001901fdec\n",
      "Copied all data for poster_id 5a9a74dd11be1053476212dd\n",
      "Copied all data for poster_id 579dc04982ec39466917e9c6\n",
      "Copied all data for poster_id 5965ebab50c4b438acc7a2e4\n",
      "Copied all data for poster_id 5ed0b272000000000100204d\n",
      "Copied all data for poster_id 5f8319b90000000001005167\n",
      "Copied all data for poster_id 54cd4264b4c4d615fc2c8785\n",
      "Copied all data for poster_id 5ee6f0b7000000000101efc1\n",
      "Copied all data for poster_id 58c116366a6a69510d4d5fca\n",
      "Copied all data for poster_id 5a20fd8e4eacab7ff7591319\n",
      "Copied all data for poster_id 55a25030b7ba2215ba75dea8\n",
      "Copied all data for poster_id 5e00388400000000010097d2\n",
      "Copied all data for poster_id 5c54fd6d000000001803403f\n",
      "Copied all data for poster_id 5b2b31fe6b58b76236e580ca\n",
      "Copied all data for poster_id 59e0b13c20e88f68e8af29a0\n",
      "Copied all data for poster_id 5a898d2ce8ac2b3ae82f7ee7\n",
      "Copied all data for poster_id 55bd601267bc653fea5862da\n",
      "Copied all data for poster_id 5483c528d6e4a91b71c94320\n",
      "Copied all data for poster_id 595989005e87e7786f165159\n",
      "Copied all data for poster_id 5fc059d600000000010049cb\n",
      "Copied all data for poster_id 5945698250c4b465df6fac5d\n",
      "Copied all data for poster_id 5b8a337bba87a80001c85604\n",
      "Copied all data for poster_id 5e8986ca0000000001009a1c\n",
      "Copied all data for poster_id 5e8adbbd0000000001007864\n",
      "Copied all data for poster_id 5af3f7d6e8ac2b41762ac4ae\n",
      "Copied all data for poster_id 5fcf5784000000000101efc1\n",
      "Copied all data for poster_id 59db0933de5fb42c49530bc7\n",
      "Copied all data for poster_id 5c4d3b2f000000001000a286\n",
      "Data selection completed.\n"
     ]
    }
   ],
   "source": [
    "import pandas as pd\n",
    "import os\n",
    "import shutil\n",
    "\n",
    "# Define the file paths\n",
    "csv_file_path = '/home/disk1/red_disk1/poster_test_50.csv'\n",
    "all_data_folder = '/home/disk1/red_disk1/all_data'\n",
    "output_folder = '/home/disk1/red_disk1/selected_data'\n",
    "\n",
    "# Create the output folder if it doesn't exist\n",
    "if not os.path.exists(output_folder):\n",
    "    os.makedirs(output_folder)\n",
    "\n",
    "# Load the CSV file\n",
    "df = pd.read_csv(csv_file_path)\n",
    "\n",
    "# Iterate over each unique poster_id\n",
    "for poster_id in df['poster_id'].unique():\n",
    "    poster_id = str(poster_id)\n",
    "    \n",
    "    # Define the source folder path\n",
    "    source_poster_folder = os.path.join(all_data_folder, poster_id)\n",
    "    \n",
    "    # Define the destination folder path\n",
    "    dest_poster_folder = os.path.join(output_folder, poster_id)\n",
    "    \n",
    "    # Check if the source folder exists\n",
    "    if os.path.exists(source_poster_folder):\n",
    "        # Copy the entire poster_id folder to the destination\n",
    "        shutil.copytree(source_poster_folder, dest_poster_folder, dirs_exist_ok=True)\n",
    "        print(f\"Copied all data for poster_id {poster_id}\")\n",
    "    else:\n",
    "        print(f\"Source folder for poster_id {poster_id} does not exist\")\n",
    "\n",
    "print(\"Data selection completed.\")\n"
   ]
  },
  {
   "cell_type": "markdown",
   "metadata": {},
   "source": [
    "count the number of poster_id directories in the all_data folder:"
   ]
  },
  {
   "cell_type": "code",
   "execution_count": 4,
   "metadata": {},
   "outputs": [
    {
     "name": "stdout",
     "output_type": "stream",
     "text": [
      "There are 9225 poster_id directories in the all_data folder.\n"
     ]
    }
   ],
   "source": [
    "import os\n",
    "\n",
    "# Define the path to the all_data folder\n",
    "all_data_folder = '/home/disk1/red_disk1/all_data'\n",
    "\n",
    "# Get a list of all items in the all_data folder\n",
    "all_items = os.listdir(all_data_folder)\n",
    "\n",
    "# Filter the list to include only directories (which represent poster_id)\n",
    "poster_ids = [item for item in all_items if os.path.isdir(os.path.join(all_data_folder, item))]\n",
    "\n",
    "# Count the number of poster_id directories\n",
    "num_poster_ids = len(poster_ids)\n",
    "\n",
    "print(f\"There are {num_poster_ids} poster_id directories in the all_data folder.\")\n"
   ]
  }
 ],
 "metadata": {
  "kernelspec": {
   "display_name": "base",
   "language": "python",
   "name": "python3"
  },
  "language_info": {
   "codemirror_mode": {
    "name": "ipython",
    "version": 3
   },
   "file_extension": ".py",
   "mimetype": "text/x-python",
   "name": "python",
   "nbconvert_exporter": "python",
   "pygments_lexer": "ipython3",
   "version": "3.9.7"
  }
 },
 "nbformat": 4,
 "nbformat_minor": 2
}
