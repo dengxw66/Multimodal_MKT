{
 "cells": [
  {
   "cell_type": "markdown",
   "metadata": {},
   "source": [
    "Select 200 distinct rows based on poster_id from poster_got_50w.csv and save the result in poster_test_200.csv"
   ]
  },
  {
   "cell_type": "code",
   "execution_count": 1,
   "metadata": {},
   "outputs": [
    {
     "name": "stdout",
     "output_type": "stream",
     "text": [
      "New CSV file with 200 distinct rows saved as 'poster_test_200.csv'\n"
     ]
    }
   ],
   "source": [
    "import pandas as pd\n",
    "\n",
    "# Define the file path\n",
    "file_path = '/home/disk1/red_disk1/poster_got_50w.csv'\n",
    "\n",
    "# Load the CSV file\n",
    "df = pd.read_csv(file_path)\n",
    "\n",
    "# Select 50 distinct rows based on poster_id\n",
    "distinct_rows = df.drop_duplicates(subset=['poster_id']).head(200)\n",
    "\n",
    "# Save the new DataFrame to a CSV file\n",
    "output_path = '/home/disk1/red_disk1/test/poster_test_200.csv'\n",
    "distinct_rows.to_csv(output_path, index=False)\n",
    "\n",
    "print(\"New CSV file with 200 distinct rows saved as 'poster_test_200.csv'\")\n"
   ]
  },
  {
   "cell_type": "markdown",
   "metadata": {},
   "source": [
    "#### Keep fashion posts only\n",
    "\n",
    "1. Filter rows containing fashion-related keywords in 'post_title' or 'post_content'\n",
    "2. Remove posts with no post_date or post_like or post_collect or post_comments"
   ]
  },
  {
   "cell_type": "code",
   "execution_count": 2,
   "metadata": {},
   "outputs": [
    {
     "name": "stdout",
     "output_type": "stream",
     "text": [
      "Filtered data has been saved to /home/disk1/red_disk1/test/poster_test_fashion.csv\n"
     ]
    }
   ],
   "source": [
    "import pandas as pd\n",
    "import re\n",
    "\n",
    "# Define the path to the CSV file\n",
    "file_path = '/home/disk1/red_disk1/test/poster_test_200.csv'\n",
    "\n",
    "# Load the CSV file\n",
    "df = pd.read_csv(file_path)\n",
    "\n",
    "# Define fashion-related keywords\n",
    "fashion_keywords = [\n",
    "    \"时尚\", \"穿搭\", \"搭配\", \"潮流\", \"服装\", \"造型\", \"衣服\", \"新品\", \"裙子\", \"裤子\", \"连衣裙\", \n",
    "    \"上衣\", \"衬衫\", \"外套\", \"牛仔裤\", \"毛衣\", \"包包\", \"鞋子\", \"首饰\", \"帽子\", \"眼镜\", \"简约\", \n",
    "    \"休闲\", \"正式\", \"甜美\", \"酷\", \"时髦\", \"复古\", \"韩系\", \"日系\", \"轻奢\", \"#OOTD\", \"#Ootd\", \n",
    "    \"#ootd\", \"#时尚达人\", \"#穿搭指南\", \"#今日穿搭\", \"#潮流搭配\", \"#时尚博主\", \"#新品推荐\", \n",
    "    \"#街拍\", \"#每日穿搭\", \"#名牌\", \"夏装\", \"冬装\", \"春装\", \"秋装\", \"节日\", \"婚礼\"\n",
    "]\n",
    "\n",
    "# Create a regex pattern for the fashion keywords\n",
    "pattern = re.compile('|'.join(fashion_keywords), re.IGNORECASE)\n",
    "\n",
    "# Filter rows containing fashion-related keywords in 'post_title' or 'post_content'\n",
    "df_fashion = df[df['post_title'].str.contains(pattern) | df['post_content'].str.contains(pattern)]\n",
    "\n",
    "# Remove rows with missing information in the specified columns\n",
    "df_fashion_cleaned = df_fashion.dropna(subset=['post_date', 'post_like', 'post_collect', 'post_comments'])\n",
    "\n",
    "# Save the updated DataFrame to a new CSV file\n",
    "output_path = '/home/disk1/red_disk1/test/poster_test_fashion.csv'\n",
    "df_fashion_cleaned.to_csv(output_path, index=False)\n",
    "\n",
    "print(\"Filtered data has been saved to\", output_path)\n"
   ]
  },
  {
   "cell_type": "markdown",
   "metadata": {},
   "source": [
    "Select the data from the all_data folder based on poster_id and post_id in poster_test_fashion.csv"
   ]
  },
  {
   "cell_type": "code",
   "execution_count": 3,
   "metadata": {},
   "outputs": [
    {
     "name": "stdout",
     "output_type": "stream",
     "text": [
      "Copied all data for poster_id 58ce075f5e87e757f8ea60c9\n",
      "Copied all data for poster_id 57a346a67fc5b869366dd8f9\n",
      "Copied all data for poster_id 5958d3d56a6a691265623f01\n",
      "Copied all data for poster_id 5c454bb900000000070116a5\n",
      "Copied all data for poster_id 598cb9e45e87e703113a4b42\n",
      "Copied all data for poster_id 5b9f6f33b2e7dc000145640f\n",
      "Copied all data for poster_id 5b3c364911be10556aeb83ef\n",
      "Copied all data for poster_id 5a9a74dd11be1053476212dd\n",
      "Copied all data for poster_id 579dc04982ec39466917e9c6\n",
      "Copied all data for poster_id 5f8319b90000000001005167\n",
      "Copied all data for poster_id 58c116366a6a69510d4d5fca\n",
      "Copied all data for poster_id 5a20fd8e4eacab7ff7591319\n",
      "Copied all data for poster_id 5c54fd6d000000001803403f\n",
      "Copied all data for poster_id 5b2b31fe6b58b76236e580ca\n",
      "Copied all data for poster_id 59e0b13c20e88f68e8af29a0\n",
      "Copied all data for poster_id 5a898d2ce8ac2b3ae82f7ee7\n",
      "Copied all data for poster_id 55bd601267bc653fea5862da\n",
      "Copied all data for poster_id 5483c528d6e4a91b71c94320\n",
      "Copied all data for poster_id 595989005e87e7786f165159\n",
      "Copied all data for poster_id 5fc059d600000000010049cb\n",
      "Copied all data for poster_id 5945698250c4b465df6fac5d\n",
      "Copied all data for poster_id 5b8a337bba87a80001c85604\n",
      "Copied all data for poster_id 5e8adbbd0000000001007864\n",
      "Copied all data for poster_id 5fcf5784000000000101efc1\n",
      "Copied all data for poster_id 5c4d3b2f000000001000a286\n",
      "Copied all data for poster_id 59d3ec2120e88f31d24f18f4\n",
      "Copied all data for poster_id 5c9d62b30000000017027b59\n",
      "Copied all data for poster_id 569ba9c26a6a696bd4229774\n",
      "Copied all data for poster_id 565ac75482ec3922e2a6fac0\n",
      "Copied all data for poster_id 5ca2da7b000000001101356f\n",
      "Copied all data for poster_id 5b8926b4779bd5000102c4c9\n",
      "Copied all data for poster_id 5b27cebf11be105aaa9c3831\n",
      "Copied all data for poster_id 5adbe9894eacab2a75599cec\n",
      "Copied all data for poster_id 6037e6fb0000000001007b81\n",
      "Copied all data for poster_id 5fe7433e0000000001006fd0\n",
      "Copied all data for poster_id 5ac648b24eacab4a8eed2227\n",
      "Copied all data for poster_id 58eaf1c382ec39578aaff0e1\n",
      "Copied all data for poster_id 5f4dde330000000001005ae2\n",
      "Copied all data for poster_id 5686b3b85e87e70e5dff2981\n",
      "Copied all data for poster_id 5ec39ebd0000000001002ece\n",
      "Copied all data for poster_id 59781e2982ec390928f591e2\n",
      "Copied all data for poster_id 565ea10ee00dd8533926b50b\n",
      "Copied all data for poster_id 57a17b2a50c4b462bc6b4e87\n",
      "Copied all data for poster_id 598429d46a6a692d9b05273c\n",
      "Copied all data for poster_id 5bd673117da0890001dc0b41\n",
      "Copied all data for poster_id 5b0916686b58b7203d315726\n",
      "Copied all data for poster_id 5aed3959e8ac2b2a1c881be3\n",
      "Copied all data for poster_id 5a6068644eacab17a5cfde99\n",
      "Copied all data for poster_id 5c304a2e000000000501e21b\n",
      "Copied all data for poster_id 5a8f8cfd11be1077afeb8292\n",
      "Copied all data for poster_id 5a7bbc36b1da146656a9620b\n",
      "Copied all data for poster_id 5c8b33b0000000001101b2f8\n",
      "Copied all data for poster_id 5ad8811a4eacab1fe241579f\n",
      "Copied all data for poster_id 5af529c14eacab4dad70a133\n",
      "Copied all data for poster_id 5a93f34511be1078eb50eb23\n",
      "Copied all data for poster_id 562b89930bf90c096f8fc5a4\n",
      "Copied all data for poster_id 5d1db1b90000000011028188\n",
      "Copied all data for poster_id 56509e0d9eb5782270a7b5ea\n",
      "Copied all data for poster_id 595de0bc82ec39109baf8e0e\n",
      "Copied all data for poster_id 5a7e73fbe8ac2b0c12b500b1\n",
      "Copied all data for poster_id 53154482b4c4d64f5296aecd\n",
      "Copied all data for poster_id 5dc438f80000000001006568\n",
      "Copied all data for poster_id 55311e174fac633b88103ed4\n",
      "Copied all data for poster_id 608434aa000000000101cfc6\n",
      "Copied all data for poster_id 593684c26a6a69574c1567b6\n",
      "Copied all data for poster_id 5ca1ad86000000001702f940\n",
      "Copied all data for poster_id 58e78fa182ec39414dc9d344\n",
      "Copied all data for poster_id 5eeb38e2000000000101f121\n",
      "Copied all data for poster_id 590e89be50c4b45e4ae66453\n",
      "Copied all data for poster_id 5a168ecc11be1037d2c3e342\n",
      "Copied all data for poster_id 56512b71f53ee0700dafb990\n",
      "Copied all data for poster_id 5cc1227e00000000100128b9\n",
      "Copied all data for poster_id 562ec0214476084b8a90e565\n",
      "Copied all data for poster_id 546c41e7d6e4a90ccff7dfc9\n",
      "Copied all data for poster_id 5d0f28350000000016023bc4\n",
      "Copied all data for poster_id 5b41b47111be103416daea65\n",
      "Copied all data for poster_id 5f5ef7be000000000101cedb\n",
      "Copied all data for poster_id 5d352890000000001200339c\n",
      "Copied all data for poster_id 58249fd56a6a695124d936b4\n",
      "Copied all data for poster_id 5edaebac000000000101e9de\n",
      "Copied all data for poster_id 59eaf62b4eacab6f32f80076\n",
      "Copied all data for poster_id 56d05d244775a75237f74f39\n",
      "Copied all data for poster_id 604f1e5a0000000001006a6e\n",
      "Copied all data for poster_id 55519d7cb203d93d4c2885ed\n",
      "Copied all data for poster_id 53dba221b4c4d659d329e9c1\n",
      "Copied all data for poster_id 5a02897fe8ac2b6e94f74da9\n",
      "Copied all data for poster_id 5cd2f606000000001701c14b\n",
      "Copied all data for poster_id 58de75bf82ec3904983b1a15\n",
      "Copied all data for poster_id 564e76f40bf90c7d349960be\n",
      "Copied all data for poster_id 56e4327a1c07df26fc9bb08f\n",
      "Copied all data for poster_id 5a69eca311be10246f02b8a2\n",
      "Copied all data for poster_id 571ad34084edcd2024548fd4\n",
      "Copied all data for poster_id 56ba927750c4b478072c1e80\n",
      "Copied all data for poster_id 56591271e4251d32e78af3af\n",
      "Copied all data for poster_id 5438a99fd6e4a959b0f528d0\n",
      "Copied all data for poster_id 559a00a7b7ba22339829f6c2\n",
      "Copied all data for poster_id 5658676f6a6a691966fb692d\n",
      "Copied all data for poster_id 576ec2336a6a697c64af01d8\n",
      "Copied all data for poster_id 61f4c5a700000000100070b3\n",
      "Copied all data for poster_id 557385d567bc65400f3a52fd\n",
      "Copied all data for poster_id 57fc4b2c5e87e716836dc5b7\n",
      "Copied all data for poster_id 56062b6362a60c799e0a3137\n",
      "Copied all data for poster_id 5cb427010000000017018af8\n",
      "Copied all data for poster_id 5ed5bd8a000000000101e97f\n",
      "Copied all data for poster_id 5a1551ea4eacab5ed885da27\n",
      "Copied all data for poster_id 5a4751b5e8ac2b2fca285066\n",
      "Copied all data for poster_id 5fc237f3000000000100305b\n",
      "Copied all data for poster_id 557538fa3f0f3c4029df28f3\n",
      "Copied all data for poster_id 574c52706a6a695bfecd7cca\n",
      "Copied all data for poster_id 57a0cbe05e87e75371fcdb12\n",
      "Copied all data for poster_id 584cbbae50c4b445ab6eecfc\n",
      "Copied all data for poster_id 54f12d17a46e9665caba4926\n",
      "Copied all data for poster_id 5a9d321d11be1020ca94e9c5\n",
      "Copied all data for poster_id 5c7a2a93000000001002f543\n",
      "Copied all data for poster_id 5af54677e8ac2b522ae644d4\n",
      "Copied all data for poster_id 5fbf55ac00000000010054ec\n",
      "Copied all data for poster_id 5ad2aa044eacab01784eb989\n",
      "Copied all data for poster_id 57b4421450c4b416b711f415\n",
      "Copied all data for poster_id 5a741a29e8ac2b746f5d157c\n",
      "Copied all data for poster_id 5afe7a7011be107517033719\n",
      "Copied all data for poster_id 54cc6461b4c4d615fa2c667f\n",
      "Copied all data for poster_id 5e538fea0000000001006fe1\n",
      "Copied all data for poster_id 56278f6df53ee036c2de35c5\n",
      "Copied all data for poster_id 5b9c6dc498c11e0001564ecd\n",
      "Copied all data for poster_id 5c0b2e5b000000000701349b\n",
      "Copied all data for poster_id 5ba27b0eeac9cb00014d99f7\n",
      "Data selection completed.\n"
     ]
    }
   ],
   "source": [
    "import pandas as pd\n",
    "import os\n",
    "import shutil\n",
    "\n",
    "# Define the file paths\n",
    "csv_file_path = '/home/disk1/red_disk1/test/poster_test_fashion.csv'\n",
    "all_data_folder = '/home/disk1/red_disk1/all_data'\n",
    "output_folder = '/home/disk1/red_disk1/test/data'\n",
    "\n",
    "# Create the output folder if it doesn't exist\n",
    "if not os.path.exists(output_folder):\n",
    "    os.makedirs(output_folder)\n",
    "\n",
    "# Load the CSV file\n",
    "df = pd.read_csv(csv_file_path)\n",
    "\n",
    "# Iterate over each unique poster_id\n",
    "for poster_id in df['poster_id'].unique():\n",
    "    poster_id = str(poster_id)\n",
    "    \n",
    "    # Define the source folder path\n",
    "    source_poster_folder = os.path.join(all_data_folder, poster_id)\n",
    "    \n",
    "    # Define the destination folder path\n",
    "    dest_poster_folder = os.path.join(output_folder, poster_id)\n",
    "    \n",
    "    # Check if the source folder exists\n",
    "    if os.path.exists(source_poster_folder):\n",
    "        # Copy the entire poster_id folder to the destination\n",
    "        shutil.copytree(source_poster_folder, dest_poster_folder, dirs_exist_ok=True)\n",
    "        print(f\"Copied all data for poster_id {poster_id}\")\n",
    "    else:\n",
    "        print(f\"Source folder for poster_id {poster_id} does not exist\")\n",
    "\n",
    "print(\"Data selection completed.\")\n"
   ]
  },
  {
   "cell_type": "markdown",
   "metadata": {},
   "source": [
    "Count the number of poster_id directories in the all_data or test/data folder:"
   ]
  },
  {
   "cell_type": "code",
   "execution_count": 5,
   "metadata": {},
   "outputs": [
    {
     "name": "stdout",
     "output_type": "stream",
     "text": [
      "There are 126 poster_id directories in the test/data folder.\n"
     ]
    }
   ],
   "source": [
    "import os\n",
    "\n",
    "# Define the path to the all_data folder\n",
    "# all_data_folder = '/home/disk1/red_disk1/all_data'\n",
    "all_data_folder = '/home/disk1/red_disk1/test/data'\n",
    "\n",
    "# Get a list of all items in the all_data folder\n",
    "all_items = os.listdir(all_data_folder)\n",
    "\n",
    "# Filter the list to include only directories (which represent poster_id)\n",
    "poster_ids = [item for item in all_items if os.path.isdir(os.path.join(all_data_folder, item))]\n",
    "\n",
    "# Count the number of poster_id directories\n",
    "num_poster_ids = len(poster_ids)\n",
    "\n",
    "# print(f\"There are {num_poster_ids} poster_id directories in the all_data folder.\")\n",
    "print(f\"There are {num_poster_ids} poster_id directories in the test/data folder.\")\n"
   ]
  }
 ],
 "metadata": {
  "kernelspec": {
   "display_name": "base",
   "language": "python",
   "name": "python3"
  },
  "language_info": {
   "codemirror_mode": {
    "name": "ipython",
    "version": 3
   },
   "file_extension": ".py",
   "mimetype": "text/x-python",
   "name": "python",
   "nbconvert_exporter": "python",
   "pygments_lexer": "ipython3",
   "version": "3.9.7"
  }
 },
 "nbformat": 4,
 "nbformat_minor": 2
}
