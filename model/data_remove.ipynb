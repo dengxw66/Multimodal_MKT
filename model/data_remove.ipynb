{
 "cells": [
  {
   "cell_type": "code",
   "execution_count": 4,
   "metadata": {},
   "outputs": [
    {
     "name": "stderr",
     "output_type": "stream",
     "text": [
      "Processing images:   0%|          | 0/14468 [00:00<?, ?it/s]"
     ]
    },
    {
     "name": "stderr",
     "output_type": "stream",
     "text": [
      "Processing images: 100%|██████████| 14468/14468 [26:54<00:00,  8.96it/s]\n"
     ]
    }
   ],
   "source": [
    "import os\n",
    "from PIL import Image, ImageEnhance\n",
    "import numpy as np\n",
    "from tqdm import tqdm\n",
    "\n",
    "def apply_mask(image, mask):\n",
    "    \"\"\"\n",
    "    将掩码应用到图片上，根据掩码颜色决定是否覆盖原图\n",
    "    \"\"\"\n",
    "    image_np = np.array(image)\n",
    "    mask_np = np.array(mask)\n",
    "    \n",
    "    # 增加掩码对比度\n",
    "    enhancer = ImageEnhance.Contrast(mask)\n",
    "    mask = enhancer.enhance(2.0)\n",
    "    \n",
    "    mask_np = np.array(mask)\n",
    "    \n",
    "    # 如果掩码为黑色（值为0），则覆盖原图像素\n",
    "    mask_binary = (mask_np == 0).astype(np.uint8)\n",
    "    \n",
    "    # 应用掩码，覆盖黑色区域\n",
    "    masked_image = image_np * (1 - mask_binary[:, :, np.newaxis]) + np.zeros_like(image_np) * mask_binary[:, :, np.newaxis]\n",
    "    \n",
    "    # 确保掩码区域透明处理\n",
    "    alpha_channel = (1 - mask_binary) * 255\n",
    "    masked_image = np.dstack((masked_image, alpha_channel))\n",
    "    \n",
    "    return Image.fromarray(masked_image.astype(np.uint8))\n",
    "\n",
    "def merge_images(image_dir, mask_dir, output_dir):\n",
    "    \"\"\"\n",
    "    合并图片和掩码，并保存到新的文件夹\n",
    "    \"\"\"\n",
    "    if not os.path.exists(output_dir):\n",
    "        os.makedirs(output_dir)\n",
    "    \n",
    "    image_files = [f for f in os.listdir(image_dir) if f.endswith('.png')]\n",
    "    mask_files = [f for f in os.listdir(mask_dir) if f.endswith('.png')]\n",
    "    \n",
    "    for image_file in tqdm(image_files, desc=\"Processing images\"):\n",
    "        image_path = os.path.join(image_dir, image_file)\n",
    "        mask_path = os.path.join(mask_dir, image_file)\n",
    "        \n",
    "        if not os.path.exists(mask_path):\n",
    "            print(f\"掩码缺失: {mask_path}\")\n",
    "            continue\n",
    "        \n",
    "        image = Image.open(image_path).convert('RGB')\n",
    "        mask = Image.open(mask_path).convert('L')  # 假设掩码是灰度图\n",
    "        \n",
    "        mask_np = np.array(mask)\n",
    "        \n",
    "        # 计算黑色像素的比例\n",
    "        black_pixels_ratio = np.sum(mask_np == 0) / mask_np.size\n",
    "        \n",
    "        # 如果黑色像素占比超过94%，跳过这张图片\n",
    "        if black_pixels_ratio > 0.94:\n",
    "            # print(f\"掩码黑色像素比例过高({black_pixels_ratio*100:.2f}%)，跳过合并: {image_file}\")\n",
    "            continue\n",
    "        \n",
    "        masked_image = apply_mask(image, mask)\n",
    "        output_path = os.path.join(output_dir, image_file)\n",
    "        masked_image.save(output_path, 'PNG')  # 保存为PNG格式以保留透明度\n",
    "        # print(f\"图片已合并并保存到 {output_path}！\")\n",
    "\n",
    "# 定义图片、掩码和输出文件夹路径\n",
    "image_dir = r'/data1/dxw_data/llm/redbook_final/data2/all_processed_data'  # 替换为你的正常图片文件夹路径\n",
    "mask_dir = r'/data1/dxw_data/llm/redbook_final/script_next/data_img_20%_segcloth_background'  # 替换为你的掩码图片文件夹路径\n",
    "output_dir = r'/data1/dxw_data/llm/redbook_final/script_next/combined_seg_img_pure_094'  # 替换为你的输出文件夹路径\n",
    "\n",
    "merge_images(image_dir, mask_dir, output_dir)\n"
   ]
  }
 ],
 "metadata": {
  "kernelspec": {
   "display_name": "agent",
   "language": "python",
   "name": "python3"
  },
  "language_info": {
   "codemirror_mode": {
    "name": "ipython",
    "version": 3
   },
   "file_extension": ".py",
   "mimetype": "text/x-python",
   "name": "python",
   "nbconvert_exporter": "python",
   "pygments_lexer": "ipython3",
   "version": "3.8.19"
  }
 },
 "nbformat": 4,
 "nbformat_minor": 2
}
