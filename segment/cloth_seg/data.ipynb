{
 "cells": [
  {
   "cell_type": "code",
   "execution_count": null,
   "metadata": {},
   "outputs": [],
   "source": [
    "# come to https://github.com/wildoctopus/huggingface-cloth-segmentation\n",
    "\n",
    "# 得到原始图片文件夹1，分割mask掩码图片文件夹2。现在合并文件夹1和文件夹2."
   ]
  },
  {
   "cell_type": "code",
   "execution_count": null,
   "metadata": {},
   "outputs": [],
   "source": [
    "import os\n",
    "import numpy as np\n",
    "from PIL import Image\n",
    "\n",
    "def apply_mask_to_image(image_path, mask_path, output_path):\n",
    "    image = Image.open(image_path).convert('RGB')\n",
    "    mask = Image.open(mask_path).convert('L')\n",
    "\n",
    "    # Apply mask to the image\n",
    "    image_np = np.array(image)\n",
    "    mask_np = np.array(mask)\n",
    "    masked_image_np = np.multiply(image_np, mask_np[:, :, None] / 255.0)\n",
    "    masked_image = Image.fromarray(masked_image_np.astype(np.uint8))\n",
    "\n",
    "    # Save the masked image\n",
    "    masked_image.save(output_path)\n",
    "\n",
    "def merge_images_with_masks(image_folder, mask_folder, output_folder):\n",
    "    if not os.path.exists(output_folder):\n",
    "        os.makedirs(output_folder)\n",
    "\n",
    "    image_files = os.listdir(image_folder)\n",
    "    for image_file in image_files:\n",
    "        image_path = os.path.join(image_folder, image_file)\n",
    "        mask_path = os.path.join(mask_folder, image_file)\n",
    "\n",
    "        if os.path.exists(mask_path):\n",
    "            output_path = os.path.join(output_folder, image_file)\n",
    "            apply_mask_to_image(image_path, mask_path, output_path)\n",
    "        else:\n",
    "            print(f\"Mask not found for {image_file}\")\n",
    "\n",
    "# Define the paths to the folders\n",
    "image_folder = '/data1/dxw_data/llm/redbook_final/script_next/data_img_20%'\n",
    "mask_folder = '/data1/dxw_data/llm/redbook_final/script_next/data_img_20%_segcloth'\n",
    "output_folder = '/data1/dxw_data/llm/redbook_final/script_next/data_img_20%_segcloth'\n",
    "\n",
    "# Merge images with masks\n",
    "merge_images_with_masks(image_folder, mask_folder, output_folder)\n"
   ]
  }
 ],
 "metadata": {
  "language_info": {
   "name": "python"
  }
 },
 "nbformat": 4,
 "nbformat_minor": 2
}
