{
 "cells": [
  {
   "cell_type": "code",
   "execution_count": null,
   "metadata": {},
   "outputs": [],
   "source": [
    "# come to https://github.com/wildoctopus/huggingface-cloth-segmentation\n",
    "\n",
    "# 得到原始图片文件夹1，分割mask掩码图片文件夹2。现在合并文件夹1和文件夹2."
   ]
  },
  {
   "cell_type": "code",
   "execution_count": 6,
   "metadata": {},
   "outputs": [
    {
     "name": "stderr",
     "output_type": "stream",
     "text": [
      "Processing images: 100%|██████████| 52853/52853 [30:16<00:00, 29.09it/s]  \n"
     ]
    }
   ],
   "source": [
    "import os\n",
    "import numpy as np\n",
    "from PIL import Image, ImageEnhance\n",
    "from tqdm import tqdm\n",
    "\n",
    "def apply_mask_to_image(image_path, mask_path, output_path, brightness_factor=1.5):\n",
    "    image = Image.open(image_path).convert('RGB')\n",
    "    mask = Image.open(mask_path).convert('RGB')  # Open mask as RGB to handle different colors\n",
    "\n",
    "    # Apply mask to the image\n",
    "    image_np = np.array(image)\n",
    "    mask_np = np.array(mask)\n",
    "\n",
    "    # Separate mask channels\n",
    "    red, green, blue = mask_np[:,:,0], mask_np[:,:,1], mask_np[:,:,2]\n",
    "    combined_mask = np.maximum.reduce([red, green, blue])  # Combine different colors into one mask\n",
    "\n",
    "    masked_image_np = np.multiply(image_np, combined_mask[:,:,None] / 255.0)\n",
    "    masked_image = Image.fromarray(masked_image_np.astype(np.uint8))\n",
    "\n",
    "    # Enhance brightness\n",
    "    enhancer = ImageEnhance.Brightness(masked_image)\n",
    "    bright_image = enhancer.enhance(brightness_factor)\n",
    "\n",
    "    # Save the brightened image\n",
    "    bright_image.save(output_path)\n",
    "\n",
    "def merge_images_with_masks(image_folder, mask_folder, output_folder, brightness_factor=1.5):\n",
    "    if not os.path.exists(output_folder):\n",
    "        os.makedirs(output_folder)\n",
    "\n",
    "    image_files = os.listdir(image_folder)\n",
    "    for image_file in tqdm(image_files, desc=\"Processing images\"):\n",
    "        image_path = os.path.join(image_folder, image_file)\n",
    "        mask_path = os.path.join(mask_folder, image_file)\n",
    "\n",
    "        if os.path.exists(mask_path):\n",
    "            output_path = os.path.join(output_folder, image_file)\n",
    "            apply_mask_to_image(image_path, mask_path, output_path, brightness_factor)\n",
    "        # else:\n",
    "            # print(f\"Mask not found for {image_file}\")\n",
    "\n",
    "# Define the paths to the folders\n",
    "image_folder = '/data1/dxw_data/llm/redbook_final/script_next/data_img_20%'\n",
    "mask_folder = '/data1/dxw_data/llm/redbook_final/script_next/data_img_20%_segcloth_background'\n",
    "output_folder = '/data1/dxw_data/llm/redbook_final/script_next/data_img_20%_segcloth_background_combineall'\n",
    "\n",
    "# Merge images with masks\n",
    "merge_images_with_masks(image_folder, mask_folder, output_folder)\n"
   ]
  }
 ],
 "metadata": {
  "kernelspec": {
   "display_name": "agent",
   "language": "python",
   "name": "python3"
  },
  "language_info": {
   "codemirror_mode": {
    "name": "ipython",
    "version": 3
   },
   "file_extension": ".py",
   "mimetype": "text/x-python",
   "name": "python",
   "nbconvert_exporter": "python",
   "pygments_lexer": "ipython3",
   "version": "3.8.19"
  }
 },
 "nbformat": 4,
 "nbformat_minor": 2
}
